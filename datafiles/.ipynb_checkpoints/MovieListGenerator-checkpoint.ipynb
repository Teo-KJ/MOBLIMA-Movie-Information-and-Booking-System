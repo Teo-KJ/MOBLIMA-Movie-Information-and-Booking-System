{
 "cells": [
  {
   "cell_type": "code",
   "execution_count": 1,
   "metadata": {},
   "outputs": [],
   "source": [
    "import requests\n",
    "import urllib.request\n",
    "import time\n",
    "from bs4 import BeautifulSoup\n",
    "import re\n",
    "import pandas as pd\n",
    "import numpy as np"
   ]
  },
  {
   "cell_type": "code",
   "execution_count": 2,
   "metadata": {},
   "outputs": [],
   "source": [
    "def striphtml(data):\n",
    "    p = re.compile(r'<.*?>')\n",
    "    return p.sub('', data)\n",
    "\n",
    "def stripStuff(data):\n",
    "    data = re.sub(\"\\n\", \"\", data)\n",
    "    data = re.sub(\"\\xa0\\r\", \"\", data)\n",
    "    data = re.sub(\"\\xa0New\\xa0\", \"\", data)\n",
    "    data = re.sub(\"\\xa0\", \"\", data)\n",
    "    return data\n",
    "\n",
    "def stripWhitespace(data):\n",
    "    return re.sub(\"                                            \", \"\", data)"
   ]
  },
  {
   "cell_type": "code",
   "execution_count": 3,
   "metadata": {},
   "outputs": [],
   "source": [
    "url = \"http://www.cinemaonline.sg/movies/nowshowing.aspx\"\n",
    "response = requests.get(url)"
   ]
  },
  {
   "cell_type": "code",
   "execution_count": 4,
   "metadata": {
    "scrolled": true
   },
   "outputs": [],
   "source": [
    "soup = BeautifulSoup(response.text, \"html.parser\")\n",
    "tags = soup.findAll(\"li\")\n",
    "tags = [str(i) for i in tags]"
   ]
  },
  {
   "cell_type": "code",
   "execution_count": 5,
   "metadata": {},
   "outputs": [],
   "source": [
    "movieData = []\n",
    "for i in range(0, len(tags)):\n",
    "    movieData.append(striphtml(tags[i]))"
   ]
  },
  {
   "cell_type": "code",
   "execution_count": 6,
   "metadata": {},
   "outputs": [],
   "source": [
    "del movieData[:20]\n",
    "movieData = movieData[:len(movieData)-4]"
   ]
  },
  {
   "cell_type": "code",
   "execution_count": 7,
   "metadata": {},
   "outputs": [],
   "source": [
    "for i in range(0, len(movieData)):\n",
    "    movieData[i] = stripStuff(movieData[i])"
   ]
  },
  {
   "cell_type": "code",
   "execution_count": 8,
   "metadata": {},
   "outputs": [],
   "source": [
    "# movieData[:2:]"
   ]
  },
  {
   "cell_type": "code",
   "execution_count": 9,
   "metadata": {},
   "outputs": [],
   "source": [
    "duration = []\n",
    "movieName = []\n",
    "classification = []\n",
    "castList = []\n",
    "releaseDate = []\n",
    "\n",
    "for i in movieData:\n",
    "    find = re.search(\"Running Time: (.+?)Release\", i).group(1)\n",
    "    duration.append(find)\n",
    "    find = re.search(\"(.+?)\\(\", i).group(1)\n",
    "    movieName.append(find)\n",
    "    find = re.search(\"Classification: (.+?)Genre:\", i).group(1)\n",
    "    classification.append(find)\n",
    "    find = re.search(\"Cast: (.+?)\\r\", i).group(1)\n",
    "    castList.append(find)\n",
    "    find = re.search(\"Release Date: (.+?)Language\", i).group(1)\n",
    "    releaseDate.append(find)\n",
    "    \n",
    "for i in range(0, len(movieName)):\n",
    "    movieName[i] = stripWhitespace(movieName[i])"
   ]
  },
  {
   "cell_type": "code",
   "execution_count": 10,
   "metadata": {},
   "outputs": [],
   "source": [
    "ID = []\n",
    "\n",
    "for i in range(1, len(movieData)+1):\n",
    "    if i<10:\n",
    "        ID.append(\"1000\" + str(i))\n",
    "    else:\n",
    "        ID.append(\"100\" + str(i))"
   ]
  },
  {
   "cell_type": "code",
   "execution_count": 11,
   "metadata": {},
   "outputs": [],
   "source": [
    "viewType = []\n",
    "viewStatus = []\n",
    "\n",
    "for i in range(0, len(movieName)):\n",
    "    viewType.append(\"Digital\")\n",
    "    viewStatus.append(\"Now Showing\")"
   ]
  },
  {
   "cell_type": "code",
   "execution_count": 12,
   "metadata": {},
   "outputs": [],
   "source": [
    "movieDF = pd.DataFrame(np.column_stack([ID, movieName, castList, duration, releaseDate, classification, viewType, viewStatus]), \n",
    "                               columns = ['ID', 'MovieName', 'Casts', 'Runtime', 'ReleaseDate', 'Classification', 'ViewType', 'ViewStatus'])"
   ]
  },
  {
   "cell_type": "code",
   "execution_count": 13,
   "metadata": {},
   "outputs": [],
   "source": [
    "movieDF.to_csv(r'movieFile.txt', header = None, index = None, sep = '|', mode = 'a')"
   ]
  }
 ],
 "metadata": {
  "kernelspec": {
   "display_name": "Python 3",
   "language": "python",
   "name": "python3"
  },
  "language_info": {
   "codemirror_mode": {
    "name": "ipython",
    "version": 3
   },
   "file_extension": ".py",
   "mimetype": "text/x-python",
   "name": "python",
   "nbconvert_exporter": "python",
   "pygments_lexer": "ipython3",
   "version": "3.6.8"
  }
 },
 "nbformat": 4,
 "nbformat_minor": 2
}
